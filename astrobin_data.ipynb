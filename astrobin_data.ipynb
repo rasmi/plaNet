{
 "cells": [
  {
   "cell_type": "markdown",
   "metadata": {},
   "source": [
    "# AstroBin Data Gathering"
   ]
  },
  {
   "cell_type": "code",
   "execution_count": null,
   "metadata": {
    "collapsed": false
   },
   "outputs": [],
   "source": [
    "import requests\n",
    "import json\n",
    "import glob\n",
    "import string\n",
    "import os\n",
    "from secrets import ASTROBIN_KEY, ASTROBIN_SECRET"
   ]
  },
  {
   "cell_type": "markdown",
   "metadata": {},
   "source": [
    "## Create directories"
   ]
  },
  {
   "cell_type": "code",
   "execution_count": null,
   "metadata": {
    "collapsed": false
   },
   "outputs": [],
   "source": [
    "planets = ['sun', 'mercury', 'venus', 'earth', 'mars', 'jupiter', 'saturn', 'uranus', 'neptune', 'pluto']\n",
    "path = 'data/'\n",
    "if not os.path.exists(path):\n",
    "    os.mkdir(path+'train/')\n",
    "    os.mkdir(path+'valid/')\n",
    "    os.mkdir(path+'raw/')\n",
    "    for planet in planets:\n",
    "        os.mkdir(path+'train/'+planet)\n",
    "        os.mkdir(path+'valid/'+planet)\n",
    "        os.mkdir(path+'raw/'+planet)"
   ]
  },
  {
   "cell_type": "markdown",
   "metadata": {},
   "source": [
    "## Search"
   ]
  },
  {
   "cell_type": "code",
   "execution_count": null,
   "metadata": {
    "collapsed": false
   },
   "outputs": [],
   "source": [
    "astrobin_url = 'http://www.astrobin.com'\n",
    "api_url = '/api/v1/image/'\n",
    "base_params = {'api_key': ASTROBIN_KEY, 'api_secret': ASTROBIN_SECRET}"
   ]
  },
  {
   "cell_type": "code",
   "execution_count": null,
   "metadata": {
    "collapsed": true
   },
   "outputs": [],
   "source": [
    "def search(queries):\n",
    "    results = []\n",
    "    for query in queries:\n",
    "        query_results = []\n",
    "        print 'Querying... ' + str(query)\n",
    "        query.update(base_params)\n",
    "        search_request = requests.get(astrobin_url+api_url, params=query)\n",
    "        if search_request.status_code == 200:\n",
    "            page_results = json.loads(search_request.text)\n",
    "            print 'Attempting to fetch ' + str(page_results['meta']['total_count']) + ' results...'\n",
    "            query_results.extend(page_results['objects'])\n",
    "            while page_results['meta']['next']:\n",
    "                search_request = requests.get(astrobin_url+page_results['meta']['next'])\n",
    "                if search_request.status_code == 200:\n",
    "                    page_results = json.loads(search_request.text)\n",
    "                    query_results.extend(page_results['objects'])\n",
    "                    print page_results['meta']['offset']\n",
    "                else:\n",
    "                    print 'NEXT PAGE FAILED: ' + str(page_results['meta']['offset'])\n",
    "            \n",
    "            print 'No more pages!'\n",
    "            \n",
    "        else:\n",
    "            print 'SEARCH FAILED'\n",
    "            print query\n",
    "        \n",
    "        print 'Fetched ' + str(len(query_results)) + ' results for query ' + str(query)\n",
    "        results.extend(query_results)\n",
    "    \n",
    "    print 'Fetched ' + str(len(results)) + ' results total.'\n",
    "    return results"
   ]
  },
  {
   "cell_type": "code",
   "execution_count": null,
   "metadata": {
    "collapsed": true
   },
   "outputs": [],
   "source": [
    "def build_metadata(results):\n",
    "    metadata = {}\n",
    "    for result in results:\n",
    "        if result['id'] not in metadata:\n",
    "            metadata[result['id']] = result\n",
    "    \n",
    "    print 'Found ' + str(len(metadata.keys())) + ' unique metadata entries for ' + str(len(results)) + ' results.'\n",
    "    return metadata"
   ]
  },
  {
   "cell_type": "markdown",
   "metadata": {},
   "source": [
    "## Image Downloading"
   ]
  },
  {
   "cell_type": "code",
   "execution_count": null,
   "metadata": {
    "collapsed": true
   },
   "outputs": [],
   "source": [
    "def download_image(details, image_dir=''):\n",
    "    image_request = requests.get(details['url_real'])\n",
    "    if image_request.status_code == 200:\n",
    "        with open(image_dir+str(details['id'])+'.jpg', 'wb') as image:\n",
    "            image.write(image_request.content)\n",
    "    else:\n",
    "        raise Exception('IMAGE REQUEST FAILED: ' + str(details['id']))"
   ]
  },
  {
   "cell_type": "code",
   "execution_count": null,
   "metadata": {
    "collapsed": false
   },
   "outputs": [],
   "source": [
    "def download_all_images(metadata, directory):\n",
    "    print 'Attempting to download '+str(len(metadata.keys()))+' images...'\n",
    "    found_images = glob.glob(directory+'*.jpg')\n",
    "    all_images = {filename.translate(None, string.letters).translate(None, string.punctuation): True for filename in found_images}\n",
    "    downloaded_images = 0\n",
    "    for image_id, image_details in metadata.items():\n",
    "        if image_id not in all_images:\n",
    "            try:\n",
    "                download_image(image_details, directory)\n",
    "            except Exception as e:\n",
    "                print e\n",
    "            else:\n",
    "                downloaded_images += 1\n",
    "                # In case duplicate results weren't already removed.\n",
    "                all_images[image_id] = True\n",
    "    print 'Found '+str(len(found_images))+' and downloaded '+str(downloaded_images)+' images for a total of '+str(len(all_images.keys()))+' images.'"
   ]
  },
  {
   "cell_type": "markdown",
   "metadata": {},
   "source": [
    "## Image Search and Downloading"
   ]
  },
  {
   "cell_type": "code",
   "execution_count": null,
   "metadata": {
    "collapsed": false
   },
   "outputs": [],
   "source": [
    "def download_planet_images(planet):\n",
    "    metadata_file = path+'raw/'+planet+'/'+planet+'_metadata.json'\n",
    "    if os.path.exists(metadata_file):\n",
    "        with open(metadata_file) as datafile:\n",
    "            metadata = json.load(datafile)\n",
    "    else:\n",
    "        results = search([{'title__icontains': planet}, {'description__icontains': planet}])\n",
    "        metadata = build_metadata(results)\n",
    "        with open(metadata_file, 'w') as outfile:\n",
    "            json.dump(metadata, outfile)\n",
    "    download_all_images(metadata, path+'raw/'+planet+'/')"
   ]
  },
  {
   "cell_type": "code",
   "execution_count": null,
   "metadata": {
    "collapsed": false
   },
   "outputs": [],
   "source": [
    "for planet in planets:\n",
    "    download_planet_images(planet)"
   ]
  }
 ],
 "metadata": {
  "kernelspec": {
   "display_name": "Python 2",
   "language": "python",
   "name": "python2"
  },
  "language_info": {
   "codemirror_mode": {
    "name": "ipython",
    "version": 2
   },
   "file_extension": ".py",
   "mimetype": "text/x-python",
   "name": "python",
   "nbconvert_exporter": "python",
   "pygments_lexer": "ipython2",
   "version": "2.7.12"
  }
 },
 "nbformat": 4,
 "nbformat_minor": 0
}
